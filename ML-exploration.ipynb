{
 "metadata": {
  "language_info": {
   "codemirror_mode": {
    "name": "ipython",
    "version": 3
   },
   "file_extension": ".py",
   "mimetype": "text/x-python",
   "name": "python",
   "nbconvert_exporter": "python",
   "pygments_lexer": "ipython3",
   "version": "3.7.2"
  },
  "orig_nbformat": 2,
  "kernelspec": {
   "name": "python372jvsc74a57bd0cdead55e0bf910885e59c202f0810e4d1612dc74557769b9dd7931a5d41e1a7e",
   "display_name": "Python 3.7.2 64-bit ('anaconda3': virtualenv)"
  }
 },
 "nbformat": 4,
 "nbformat_minor": 2,
 "cells": [
  {
   "cell_type": "code",
   "execution_count": 82,
   "metadata": {},
   "outputs": [],
   "source": [
    "import pandas as pd\n",
    "import numpy as np\n",
    "from sklearn.model_selection import train_test_split\n",
    "from sklearn.linear_model import LogisticRegression\n",
    "from sklearn.model_selection import cross_val_score\n",
    "from sklearn.model_selection import KFold\n",
    "from sklearn.model_selection import GridSearchCV"
   ]
  },
  {
   "cell_type": "code",
   "execution_count": 4,
   "metadata": {},
   "outputs": [
    {
     "output_type": "execute_result",
     "data": {
      "text/plain": [
       "   PassengerId  Survived  Pclass  \\\n",
       "0            1         0       3   \n",
       "1            2         1       1   \n",
       "2            3         1       3   \n",
       "3            4         1       1   \n",
       "4            5         0       3   \n",
       "\n",
       "                                                Name     Sex   Age  SibSp  \\\n",
       "0                            Braund, Mr. Owen Harris    male  22.0      1   \n",
       "1  Cumings, Mrs. John Bradley (Florence Briggs Th...  female  38.0      1   \n",
       "2                             Heikkinen, Miss. Laina  female  26.0      0   \n",
       "3       Futrelle, Mrs. Jacques Heath (Lily May Peel)  female  35.0      1   \n",
       "4                           Allen, Mr. William Henry    male  35.0      0   \n",
       "\n",
       "   Parch            Ticket     Fare Cabin Embarked  \n",
       "0      0         A/5 21171   7.2500   NaN        S  \n",
       "1      0          PC 17599  71.2833   C85        C  \n",
       "2      0  STON/O2. 3101282   7.9250   NaN        S  \n",
       "3      0            113803  53.1000  C123        S  \n",
       "4      0            373450   8.0500   NaN        S  "
      ],
      "text/html": "<div>\n<style scoped>\n    .dataframe tbody tr th:only-of-type {\n        vertical-align: middle;\n    }\n\n    .dataframe tbody tr th {\n        vertical-align: top;\n    }\n\n    .dataframe thead th {\n        text-align: right;\n    }\n</style>\n<table border=\"1\" class=\"dataframe\">\n  <thead>\n    <tr style=\"text-align: right;\">\n      <th></th>\n      <th>PassengerId</th>\n      <th>Survived</th>\n      <th>Pclass</th>\n      <th>Name</th>\n      <th>Sex</th>\n      <th>Age</th>\n      <th>SibSp</th>\n      <th>Parch</th>\n      <th>Ticket</th>\n      <th>Fare</th>\n      <th>Cabin</th>\n      <th>Embarked</th>\n    </tr>\n  </thead>\n  <tbody>\n    <tr>\n      <th>0</th>\n      <td>1</td>\n      <td>0</td>\n      <td>3</td>\n      <td>Braund, Mr. Owen Harris</td>\n      <td>male</td>\n      <td>22.0</td>\n      <td>1</td>\n      <td>0</td>\n      <td>A/5 21171</td>\n      <td>7.2500</td>\n      <td>NaN</td>\n      <td>S</td>\n    </tr>\n    <tr>\n      <th>1</th>\n      <td>2</td>\n      <td>1</td>\n      <td>1</td>\n      <td>Cumings, Mrs. John Bradley (Florence Briggs Th...</td>\n      <td>female</td>\n      <td>38.0</td>\n      <td>1</td>\n      <td>0</td>\n      <td>PC 17599</td>\n      <td>71.2833</td>\n      <td>C85</td>\n      <td>C</td>\n    </tr>\n    <tr>\n      <th>2</th>\n      <td>3</td>\n      <td>1</td>\n      <td>3</td>\n      <td>Heikkinen, Miss. Laina</td>\n      <td>female</td>\n      <td>26.0</td>\n      <td>0</td>\n      <td>0</td>\n      <td>STON/O2. 3101282</td>\n      <td>7.9250</td>\n      <td>NaN</td>\n      <td>S</td>\n    </tr>\n    <tr>\n      <th>3</th>\n      <td>4</td>\n      <td>1</td>\n      <td>1</td>\n      <td>Futrelle, Mrs. Jacques Heath (Lily May Peel)</td>\n      <td>female</td>\n      <td>35.0</td>\n      <td>1</td>\n      <td>0</td>\n      <td>113803</td>\n      <td>53.1000</td>\n      <td>C123</td>\n      <td>S</td>\n    </tr>\n    <tr>\n      <th>4</th>\n      <td>5</td>\n      <td>0</td>\n      <td>3</td>\n      <td>Allen, Mr. William Henry</td>\n      <td>male</td>\n      <td>35.0</td>\n      <td>0</td>\n      <td>0</td>\n      <td>373450</td>\n      <td>8.0500</td>\n      <td>NaN</td>\n      <td>S</td>\n    </tr>\n  </tbody>\n</table>\n</div>"
     },
     "metadata": {},
     "execution_count": 4
    }
   ],
   "source": [
    "taitanic = pd.read_csv(\"data.csv\")\n",
    "taitanic.head()"
   ]
  },
  {
   "cell_type": "code",
   "execution_count": 5,
   "metadata": {},
   "outputs": [
    {
     "output_type": "stream",
     "name": "stdout",
     "text": [
      "<class 'pandas.core.frame.DataFrame'>\nRangeIndex: 891 entries, 0 to 890\nData columns (total 12 columns):\nPassengerId    891 non-null int64\nSurvived       891 non-null int64\nPclass         891 non-null int64\nName           891 non-null object\nSex            891 non-null object\nAge            714 non-null float64\nSibSp          891 non-null int64\nParch          891 non-null int64\nTicket         891 non-null object\nFare           891 non-null float64\nCabin          204 non-null object\nEmbarked       889 non-null object\ndtypes: float64(2), int64(5), object(5)\nmemory usage: 83.6+ KB\n"
     ]
    }
   ],
   "source": [
    "taitanic.info()"
   ]
  },
  {
   "cell_type": "code",
   "execution_count": 8,
   "metadata": {},
   "outputs": [
    {
     "output_type": "execute_result",
     "data": {
      "text/plain": [
       "0    0.616162\n",
       "1    0.383838\n",
       "Name: Survived, dtype: float64"
      ]
     },
     "metadata": {},
     "execution_count": 8
    }
   ],
   "source": [
    "taitanic[\"Survived\"].value_counts(normalize=True)"
   ]
  },
  {
   "cell_type": "code",
   "execution_count": 37,
   "metadata": {},
   "outputs": [],
   "source": [
    "#feature and label selection\n",
    "\n",
    "X = taitanic[[\"Pclass\"]]\n",
    "y = taitanic[\"Survived\"]"
   ]
  },
  {
   "cell_type": "code",
   "execution_count": 38,
   "metadata": {},
   "outputs": [],
   "source": [
    "#train test split\n",
    "X_train, X_test, y_train, y_test = train_test_split(X, y, random_state=42)"
   ]
  },
  {
   "cell_type": "code",
   "execution_count": 63,
   "metadata": {},
   "outputs": [
    {
     "output_type": "execute_result",
     "data": {
      "text/plain": [
       "0.6995515695067265"
      ]
     },
     "metadata": {},
     "execution_count": 63
    }
   ],
   "source": [
    "# knn = KNeighborsClassifier(n_neighbors=10)\n",
    "# knn.fit(X_train, y_train)\n",
    "# knn.score(X_test, y_test)\n",
    "\n",
    "logreg = LogisticRegression()\n",
    "logreg.fit(X_train, y_train)\n",
    "logreg.score(X_test, y_test)"
   ]
  },
  {
   "cell_type": "code",
   "execution_count": 64,
   "metadata": {},
   "outputs": [
    {
     "output_type": "execute_result",
     "data": {
      "text/plain": [
       "0.6789843700960392"
      ]
     },
     "metadata": {},
     "execution_count": 64
    }
   ],
   "source": [
    "#CV\n",
    "\n",
    "kfold = KFold(n_splits = 5, shuffle=True, random_state=42)\n",
    "cross_val_score(logreg, X, y, cv=kfold).mean()"
   ]
  },
  {
   "cell_type": "code",
   "execution_count": 65,
   "metadata": {},
   "outputs": [
    {
     "output_type": "execute_result",
     "data": {
      "text/plain": [
       "LogisticRegression(C=1.0, class_weight=None, dual=False, fit_intercept=True,\n",
       "          intercept_scaling=1, max_iter=100, multi_class='ovr', n_jobs=1,\n",
       "          penalty='l2', random_state=None, solver='liblinear', tol=0.0001,\n",
       "          verbose=0, warm_start=False)"
      ]
     },
     "metadata": {},
     "execution_count": 65
    }
   ],
   "source": [
    "logreg"
   ]
  },
  {
   "cell_type": "code",
   "execution_count": 69,
   "metadata": {},
   "outputs": [],
   "source": [
    "#grid search for logreg\n",
    "\n",
    "param_grid = {\"C\":[0.001,0.01,0.1,1,10,100]}\n",
    "\n"
   ]
  },
  {
   "cell_type": "code",
   "execution_count": 71,
   "metadata": {},
   "outputs": [],
   "source": [
    "grid_search = GridSearchCV(logreg, param_grid, cv=5, return_train_score=True)"
   ]
  },
  {
   "cell_type": "code",
   "execution_count": 75,
   "metadata": {},
   "outputs": [
    {
     "output_type": "execute_result",
     "data": {
      "text/plain": [
       "LogisticRegression(C=0.1, class_weight=None, dual=False, fit_intercept=True,\n",
       "          intercept_scaling=1, max_iter=100, multi_class='ovr', n_jobs=1,\n",
       "          penalty='l2', random_state=None, solver='liblinear', tol=0.0001,\n",
       "          verbose=0, warm_start=False)"
      ]
     },
     "metadata": {},
     "execution_count": 75
    }
   ],
   "source": [
    "grid_search.fit(X_train, y_train)\n",
    "grid_search.score(X_test, y_test)\n",
    "grid_search.best_params_\n",
    "grid_search.best_estimator_"
   ]
  },
  {
   "cell_type": "code",
   "execution_count": 77,
   "metadata": {},
   "outputs": [
    {
     "output_type": "execute_result",
     "data": {
      "text/plain": [
       "   mean_fit_time  std_fit_time  mean_score_time  std_score_time param_C  \\\n",
       "0       0.001111      0.000148         0.000214        0.000011   0.001   \n",
       "1       0.001019      0.000027         0.000223        0.000017    0.01   \n",
       "2       0.001158      0.000046         0.000222        0.000011     0.1   \n",
       "3       0.001112      0.000078         0.000209        0.000008       1   \n",
       "4       0.001076      0.000029         0.000205        0.000003      10   \n",
       "5       0.001056      0.000021         0.000205        0.000008     100   \n",
       "\n",
       "         params  split0_test_score  split1_test_score  split2_test_score  \\\n",
       "0  {'C': 0.001}           0.619403           0.619403           0.619403   \n",
       "1   {'C': 0.01}           0.619403           0.619403           0.619403   \n",
       "2    {'C': 0.1}           0.686567           0.671642           0.671642   \n",
       "3      {'C': 1}           0.686567           0.671642           0.671642   \n",
       "4     {'C': 10}           0.686567           0.671642           0.671642   \n",
       "5    {'C': 100}           0.686567           0.671642           0.671642   \n",
       "\n",
       "   split3_test_score       ...         mean_test_score  std_test_score  \\\n",
       "0           0.624060       ...                0.621257        0.002280   \n",
       "1           0.624060       ...                0.621257        0.002280   \n",
       "2           0.676692       ...                0.672156        0.010513   \n",
       "3           0.676692       ...                0.672156        0.010513   \n",
       "4           0.676692       ...                0.672156        0.010513   \n",
       "5           0.676692       ...                0.672156        0.010513   \n",
       "\n",
       "   rank_test_score  split0_train_score  split1_train_score  \\\n",
       "0                5            0.621723            0.621723   \n",
       "1                5            0.621723            0.621723   \n",
       "2                1            0.668539            0.672285   \n",
       "3                1            0.668539            0.672285   \n",
       "4                1            0.668539            0.672285   \n",
       "5                1            0.668539            0.672285   \n",
       "\n",
       "   split2_train_score  split3_train_score  split4_train_score  \\\n",
       "0            0.621723            0.620561            0.620561   \n",
       "1            0.621723            0.620561            0.620561   \n",
       "2            0.672285            0.671028            0.676636   \n",
       "3            0.672285            0.671028            0.676636   \n",
       "4            0.672285            0.671028            0.676636   \n",
       "5            0.672285            0.671028            0.676636   \n",
       "\n",
       "   mean_train_score  std_train_score  \n",
       "0          0.621258         0.000569  \n",
       "1          0.621258         0.000569  \n",
       "2          0.672154         0.002625  \n",
       "3          0.672154         0.002625  \n",
       "4          0.672154         0.002625  \n",
       "5          0.672154         0.002625  \n",
       "\n",
       "[6 rows x 21 columns]"
      ],
      "text/html": "<div>\n<style scoped>\n    .dataframe tbody tr th:only-of-type {\n        vertical-align: middle;\n    }\n\n    .dataframe tbody tr th {\n        vertical-align: top;\n    }\n\n    .dataframe thead th {\n        text-align: right;\n    }\n</style>\n<table border=\"1\" class=\"dataframe\">\n  <thead>\n    <tr style=\"text-align: right;\">\n      <th></th>\n      <th>mean_fit_time</th>\n      <th>std_fit_time</th>\n      <th>mean_score_time</th>\n      <th>std_score_time</th>\n      <th>param_C</th>\n      <th>params</th>\n      <th>split0_test_score</th>\n      <th>split1_test_score</th>\n      <th>split2_test_score</th>\n      <th>split3_test_score</th>\n      <th>...</th>\n      <th>mean_test_score</th>\n      <th>std_test_score</th>\n      <th>rank_test_score</th>\n      <th>split0_train_score</th>\n      <th>split1_train_score</th>\n      <th>split2_train_score</th>\n      <th>split3_train_score</th>\n      <th>split4_train_score</th>\n      <th>mean_train_score</th>\n      <th>std_train_score</th>\n    </tr>\n  </thead>\n  <tbody>\n    <tr>\n      <th>0</th>\n      <td>0.001111</td>\n      <td>0.000148</td>\n      <td>0.000214</td>\n      <td>0.000011</td>\n      <td>0.001</td>\n      <td>{'C': 0.001}</td>\n      <td>0.619403</td>\n      <td>0.619403</td>\n      <td>0.619403</td>\n      <td>0.624060</td>\n      <td>...</td>\n      <td>0.621257</td>\n      <td>0.002280</td>\n      <td>5</td>\n      <td>0.621723</td>\n      <td>0.621723</td>\n      <td>0.621723</td>\n      <td>0.620561</td>\n      <td>0.620561</td>\n      <td>0.621258</td>\n      <td>0.000569</td>\n    </tr>\n    <tr>\n      <th>1</th>\n      <td>0.001019</td>\n      <td>0.000027</td>\n      <td>0.000223</td>\n      <td>0.000017</td>\n      <td>0.01</td>\n      <td>{'C': 0.01}</td>\n      <td>0.619403</td>\n      <td>0.619403</td>\n      <td>0.619403</td>\n      <td>0.624060</td>\n      <td>...</td>\n      <td>0.621257</td>\n      <td>0.002280</td>\n      <td>5</td>\n      <td>0.621723</td>\n      <td>0.621723</td>\n      <td>0.621723</td>\n      <td>0.620561</td>\n      <td>0.620561</td>\n      <td>0.621258</td>\n      <td>0.000569</td>\n    </tr>\n    <tr>\n      <th>2</th>\n      <td>0.001158</td>\n      <td>0.000046</td>\n      <td>0.000222</td>\n      <td>0.000011</td>\n      <td>0.1</td>\n      <td>{'C': 0.1}</td>\n      <td>0.686567</td>\n      <td>0.671642</td>\n      <td>0.671642</td>\n      <td>0.676692</td>\n      <td>...</td>\n      <td>0.672156</td>\n      <td>0.010513</td>\n      <td>1</td>\n      <td>0.668539</td>\n      <td>0.672285</td>\n      <td>0.672285</td>\n      <td>0.671028</td>\n      <td>0.676636</td>\n      <td>0.672154</td>\n      <td>0.002625</td>\n    </tr>\n    <tr>\n      <th>3</th>\n      <td>0.001112</td>\n      <td>0.000078</td>\n      <td>0.000209</td>\n      <td>0.000008</td>\n      <td>1</td>\n      <td>{'C': 1}</td>\n      <td>0.686567</td>\n      <td>0.671642</td>\n      <td>0.671642</td>\n      <td>0.676692</td>\n      <td>...</td>\n      <td>0.672156</td>\n      <td>0.010513</td>\n      <td>1</td>\n      <td>0.668539</td>\n      <td>0.672285</td>\n      <td>0.672285</td>\n      <td>0.671028</td>\n      <td>0.676636</td>\n      <td>0.672154</td>\n      <td>0.002625</td>\n    </tr>\n    <tr>\n      <th>4</th>\n      <td>0.001076</td>\n      <td>0.000029</td>\n      <td>0.000205</td>\n      <td>0.000003</td>\n      <td>10</td>\n      <td>{'C': 10}</td>\n      <td>0.686567</td>\n      <td>0.671642</td>\n      <td>0.671642</td>\n      <td>0.676692</td>\n      <td>...</td>\n      <td>0.672156</td>\n      <td>0.010513</td>\n      <td>1</td>\n      <td>0.668539</td>\n      <td>0.672285</td>\n      <td>0.672285</td>\n      <td>0.671028</td>\n      <td>0.676636</td>\n      <td>0.672154</td>\n      <td>0.002625</td>\n    </tr>\n    <tr>\n      <th>5</th>\n      <td>0.001056</td>\n      <td>0.000021</td>\n      <td>0.000205</td>\n      <td>0.000008</td>\n      <td>100</td>\n      <td>{'C': 100}</td>\n      <td>0.686567</td>\n      <td>0.671642</td>\n      <td>0.671642</td>\n      <td>0.676692</td>\n      <td>...</td>\n      <td>0.672156</td>\n      <td>0.010513</td>\n      <td>1</td>\n      <td>0.668539</td>\n      <td>0.672285</td>\n      <td>0.672285</td>\n      <td>0.671028</td>\n      <td>0.676636</td>\n      <td>0.672154</td>\n      <td>0.002625</td>\n    </tr>\n  </tbody>\n</table>\n<p>6 rows × 21 columns</p>\n</div>"
     },
     "metadata": {},
     "execution_count": 77
    }
   ],
   "source": [
    "results = pd.DataFrame(grid_search.cv_results_)\n",
    "results"
   ]
  }
 ]
}