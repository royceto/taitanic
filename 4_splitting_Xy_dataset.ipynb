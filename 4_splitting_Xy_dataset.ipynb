{
 "metadata": {
  "language_info": {
   "codemirror_mode": {
    "name": "ipython",
    "version": 3
   },
   "file_extension": ".py",
   "mimetype": "text/x-python",
   "name": "python",
   "nbconvert_exporter": "python",
   "pygments_lexer": "ipython3",
   "version": "3.7.10"
  },
  "orig_nbformat": 2,
  "kernelspec": {
   "name": "python3710jvsc74a57bd000fbe7a0ffdff41cb6153984e119c63b68f43f50190a26a2d6b6229a722be293",
   "display_name": "Python 3.7.10 64-bit (conda)"
  }
 },
 "nbformat": 4,
 "nbformat_minor": 2,
 "cells": [
  {
   "source": [
    "# Spliting a Dataset"
   ],
   "cell_type": "markdown",
   "metadata": {}
  },
  {
   "cell_type": "code",
   "execution_count": 130,
   "metadata": {},
   "outputs": [],
   "source": [
    "import os\n",
    "import pandas as pd\n",
    "import numpy as np\n",
    "from sklearn.preprocessing import OneHotEncoder\n",
    "from sklearn.preprocessing import StandardScaler\n",
    "from sklearn.compose import ColumnTransformer\n",
    "\n",
    "#for spliting a dataset into training and testing \n",
    "from sklearn.model_selection import train_test_split\n",
    "\n",
    "#for cross-validation\n",
    "from sklearn.model_selection import cross_val_score\n",
    "\n",
    "#randomise KFold in cross-validaiton\n",
    "from sklearn.model_selection import KFold\n",
    "\n",
    "#machine learning model for Cross-Validation\n",
    "from sklearn.linear_model import LogisticRegression"
   ]
  },
  {
   "cell_type": "code",
   "execution_count": 63,
   "metadata": {},
   "outputs": [
    {
     "output_type": "execute_result",
     "data": {
      "text/plain": [
       "   PassengerId  Survived  Pclass  \\\n",
       "0            1         0       3   \n",
       "1            2         1       1   \n",
       "2            3         1       3   \n",
       "\n",
       "                                                Name     Sex   Age  SibSp  \\\n",
       "0                            Braund, Mr. Owen Harris    male  22.0      1   \n",
       "1  Cumings, Mrs. John Bradley (Florence Briggs Th...  female  38.0      1   \n",
       "2                             Heikkinen, Miss. Laina  female  26.0      0   \n",
       "\n",
       "   Parch            Ticket     Fare Cabin Embarked  \n",
       "0      0         A/5 21171   7.2500   NaN        S  \n",
       "1      0          PC 17599  71.2833   C85        C  \n",
       "2      0  STON/O2. 3101282   7.9250   NaN        S  "
      ],
      "text/html": "<div>\n<style scoped>\n    .dataframe tbody tr th:only-of-type {\n        vertical-align: middle;\n    }\n\n    .dataframe tbody tr th {\n        vertical-align: top;\n    }\n\n    .dataframe thead th {\n        text-align: right;\n    }\n</style>\n<table border=\"1\" class=\"dataframe\">\n  <thead>\n    <tr style=\"text-align: right;\">\n      <th></th>\n      <th>PassengerId</th>\n      <th>Survived</th>\n      <th>Pclass</th>\n      <th>Name</th>\n      <th>Sex</th>\n      <th>Age</th>\n      <th>SibSp</th>\n      <th>Parch</th>\n      <th>Ticket</th>\n      <th>Fare</th>\n      <th>Cabin</th>\n      <th>Embarked</th>\n    </tr>\n  </thead>\n  <tbody>\n    <tr>\n      <th>0</th>\n      <td>1</td>\n      <td>0</td>\n      <td>3</td>\n      <td>Braund, Mr. Owen Harris</td>\n      <td>male</td>\n      <td>22.0</td>\n      <td>1</td>\n      <td>0</td>\n      <td>A/5 21171</td>\n      <td>7.2500</td>\n      <td>NaN</td>\n      <td>S</td>\n    </tr>\n    <tr>\n      <th>1</th>\n      <td>2</td>\n      <td>1</td>\n      <td>1</td>\n      <td>Cumings, Mrs. John Bradley (Florence Briggs Th...</td>\n      <td>female</td>\n      <td>38.0</td>\n      <td>1</td>\n      <td>0</td>\n      <td>PC 17599</td>\n      <td>71.2833</td>\n      <td>C85</td>\n      <td>C</td>\n    </tr>\n    <tr>\n      <th>2</th>\n      <td>3</td>\n      <td>1</td>\n      <td>3</td>\n      <td>Heikkinen, Miss. Laina</td>\n      <td>female</td>\n      <td>26.0</td>\n      <td>0</td>\n      <td>0</td>\n      <td>STON/O2. 3101282</td>\n      <td>7.9250</td>\n      <td>NaN</td>\n      <td>S</td>\n    </tr>\n  </tbody>\n</table>\n</div>"
     },
     "metadata": {},
     "execution_count": 63
    }
   ],
   "source": [
    "pwd = os.getcwd()\n",
    "data = os.path.join(pwd, \"data.csv\")\n",
    "df = pd.read_csv(data)\n",
    "df.head(3)"
   ]
  },
  {
   "source": [
    "### Feature and target selection"
   ],
   "cell_type": "markdown",
   "metadata": {}
  },
  {
   "cell_type": "code",
   "execution_count": 95,
   "metadata": {},
   "outputs": [],
   "source": [
    "features = df[[\"Pclass\", \"Sex\",\"Fare\"]]\n",
    "target = df[[\"Survived\"]]\n",
    "\n",
    "target_np = target.to_numpy()"
   ]
  },
  {
   "source": [
    "# Splitting Dataset\n",
    "\n",
    "- There are two kinds of methods in spliting a dataset:\n",
    "    - simple spliting of a dataset into 2\n",
    "    - spliting a dataset by kfold (see Method 2)\n",
    "- Both methods will be used throughout machine learning, not one better than the other but situational\n",
    "\n",
    "\n",
    "## Method 1: train_test_split\n",
    "- a simple splitting method to divide a dataset into 2 by proportion\n",
    "- proportionally, a dataset divided between 0.75 (X_train, y_train) and 0.25 (X_test, y_test)\n",
    "- use argument test_size= *float or int* for changing the proportion"
   ],
   "cell_type": "markdown",
   "metadata": {}
  },
  {
   "cell_type": "code",
   "execution_count": 129,
   "metadata": {},
   "outputs": [
    {
     "output_type": "execute_result",
     "data": {
      "text/plain": [
       "     Pclass     Sex      Fare  Survived\n",
       "298       1    male   30.5000         1\n",
       "884       3    male    7.0500         0\n",
       "247       2  female   14.5000         1\n",
       "478       3    male    7.5208         0\n",
       "305       1    male  151.5500         1"
      ],
      "text/html": "<div>\n<style scoped>\n    .dataframe tbody tr th:only-of-type {\n        vertical-align: middle;\n    }\n\n    .dataframe tbody tr th {\n        vertical-align: top;\n    }\n\n    .dataframe thead th {\n        text-align: right;\n    }\n</style>\n<table border=\"1\" class=\"dataframe\">\n  <thead>\n    <tr style=\"text-align: right;\">\n      <th></th>\n      <th>Pclass</th>\n      <th>Sex</th>\n      <th>Fare</th>\n      <th>Survived</th>\n    </tr>\n  </thead>\n  <tbody>\n    <tr>\n      <th>298</th>\n      <td>1</td>\n      <td>male</td>\n      <td>30.5000</td>\n      <td>1</td>\n    </tr>\n    <tr>\n      <th>884</th>\n      <td>3</td>\n      <td>male</td>\n      <td>7.0500</td>\n      <td>0</td>\n    </tr>\n    <tr>\n      <th>247</th>\n      <td>2</td>\n      <td>female</td>\n      <td>14.5000</td>\n      <td>1</td>\n    </tr>\n    <tr>\n      <th>478</th>\n      <td>3</td>\n      <td>male</td>\n      <td>7.5208</td>\n      <td>0</td>\n    </tr>\n    <tr>\n      <th>305</th>\n      <td>1</td>\n      <td>male</td>\n      <td>151.5500</td>\n      <td>1</td>\n    </tr>\n  </tbody>\n</table>\n</div>"
     },
     "metadata": {},
     "execution_count": 129
    }
   ],
   "source": [
    "X_train, X_test, y_train, y_test = train_test_split(features, target, random_state=42)\n",
    "\n",
    "#merging the training of features and target datasets together\n",
    "X_train_y_train = pd.merge(X_train, y_train, left_index=True, right_index=True)\n",
    "X_train_y_train.head()"
   ]
  },
  {
   "source": [
    "## Method 2: Cross-Validation (CV)\n",
    "- regarding cv, read here: https://towardsdatascience.com/why-and-how-to-cross-validate-a-model-d6424b45261f\n",
    "- a model is required, hence preprocessing is needed for non-numeric values\n",
    "- spliting of daatset is not randomised, use KFold\n",
    "\n",
    "### Some of the benefits:\n",
    "- X and y will  be thoroughly tested under k number of fold, better generalisation of a model can be produced.\n",
    "- Utilisation of a dataset: train\\_test\\_split divide a dataset by 1 time (between 75% and 25%, as default) for training and evaluation. Where cross-validation divide a dataset into several subset for training and testing (k-fold, as in cv=5).\n",
    "- Cross-validation produce a range of scores to indicate the performance of a model in its best and worst case scenarios to new data.  \n",
    "\n",
    "### Drawback:\n",
    "- Computational cost, need to train k models instead of a single model. \n",
    "\t- Personal option: given the speed and efficiency of modern cpu and relatively manageable data size (thousand of rows, dozen of columns max), this drawback should be manageable.  \n",
    "\n",
    "### Caution:\n",
    "- Cross-validation  is not a way to build a model that can be applied to new data.\n",
    "\t- Does not return a model\n",
    "\t- Use for evaluating how well a given algorithm will generalise when trained on a specific dataset. "
   ],
   "cell_type": "markdown",
   "metadata": {}
  },
  {
   "cell_type": "code",
   "execution_count": 131,
   "metadata": {},
   "outputs": [],
   "source": [
    "# instantiate a model\n",
    "\n",
    "logreg = LogisticRegression()"
   ]
  },
  {
   "cell_type": "code",
   "execution_count": 118,
   "metadata": {},
   "outputs": [],
   "source": [
    "ct = ColumnTransformer([\n",
    "    (\"onehot\", OneHotEncoder(sparse=False), [\"Pclass\", \"Sex\"]),\n",
    "    (\"scaling\", StandardScaler(),[\"Fare\"])\n",
    "    ])\n",
    "\n",
    "X_fit_trans = ct.fit_transform(features)"
   ]
  },
  {
   "cell_type": "code",
   "execution_count": 112,
   "metadata": {},
   "outputs": [
    {
     "output_type": "execute_result",
     "data": {
      "text/plain": [
       "array([0.79329609, 0.80337079, 0.76966292, 0.75842697, 0.78651685])"
      ]
     },
     "metadata": {},
     "execution_count": 112
    }
   ],
   "source": [
    "score = cross_val_score(logreg, X_fit_trans, np.ravel(target), cv=5)\n",
    "score"
   ]
  },
  {
   "cell_type": "code",
   "execution_count": 110,
   "metadata": {},
   "outputs": [
    {
     "output_type": "execute_result",
     "data": {
      "text/plain": [
       "0.7822547234950725"
      ]
     },
     "metadata": {},
     "execution_count": 110
    }
   ],
   "source": [
    "score.mean()"
   ]
  },
  {
   "source": [
    "### Randomise CV with KFold"
   ],
   "cell_type": "markdown",
   "metadata": {}
  },
  {
   "cell_type": "code",
   "execution_count": 114,
   "metadata": {},
   "outputs": [],
   "source": [
    "kfold = KFold(n_splits=5, shuffle=True, random_state=42)"
   ]
  },
  {
   "cell_type": "code",
   "execution_count": 116,
   "metadata": {},
   "outputs": [
    {
     "output_type": "execute_result",
     "data": {
      "text/plain": [
       "array([0.78212291, 0.76404494, 0.83707865, 0.74719101, 0.80337079])"
      ]
     },
     "metadata": {},
     "execution_count": 116
    }
   ],
   "source": [
    "score_kfold = cross_val_score(logreg, X_fit_trans, np.ravel(target), cv=kfold)\n",
    "score_kfold"
   ]
  },
  {
   "cell_type": "code",
   "execution_count": 117,
   "metadata": {},
   "outputs": [
    {
     "output_type": "execute_result",
     "data": {
      "text/plain": [
       "0.786761659657272"
      ]
     },
     "metadata": {},
     "execution_count": 117
    }
   ],
   "source": [
    "score_kfold.mean()"
   ]
  }
 ]
}