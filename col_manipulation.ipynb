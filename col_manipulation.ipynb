{
 "metadata": {
  "language_info": {
   "codemirror_mode": {
    "name": "ipython",
    "version": 3
   },
   "file_extension": ".py",
   "mimetype": "text/x-python",
   "name": "python",
   "nbconvert_exporter": "python",
   "pygments_lexer": "ipython3",
   "version": "3.7.2-final"
  },
  "orig_nbformat": 2,
  "kernelspec": {
   "name": "python372jvsc74a57bd0cdead55e0bf910885e59c202f0810e4d1612dc74557769b9dd7931a5d41e1a7e",
   "display_name": "Python 3.7.2 64-bit",
   "language": "python"
  }
 },
 "nbformat": 4,
 "nbformat_minor": 2,
 "cells": [
  {
   "cell_type": "code",
   "execution_count": 51,
   "metadata": {},
   "outputs": [],
   "source": [
    "import pandas as pd"
   ]
  },
  {
   "cell_type": "code",
   "execution_count": 52,
   "metadata": {},
   "outputs": [],
   "source": [
    "df = pd.read_csv(\"data.csv\")\n",
    "df_col = df.copy()"
   ]
  },
  {
   "cell_type": "code",
   "execution_count": 53,
   "metadata": {},
   "outputs": [
    {
     "output_type": "execute_result",
     "data": {
      "text/plain": [
       "Index(['PassengerId', 'Survived', 'Pclass', 'Name', 'Sex', 'Age', 'SibSp',\n",
       "       'Parch', 'Ticket', 'Fare', 'Cabin', 'Embarked'],\n",
       "      dtype='object')"
      ]
     },
     "metadata": {},
     "execution_count": 53
    }
   ],
   "source": [
    "df_col.columns"
   ]
  },
  {
   "cell_type": "code",
   "execution_count": 54,
   "metadata": {},
   "outputs": [
    {
     "output_type": "execute_result",
     "data": {
      "text/plain": [
       "   PassengerId  Survived  Pclass     Sex   Age  SibSp  Parch  \\\n",
       "0            1         0       3    male  22.0      1      0   \n",
       "1            2         1       1  female  38.0      1      0   \n",
       "2            3         1       3  female  26.0      0      0   \n",
       "3            4         1       1  female  35.0      1      0   \n",
       "4            5         0       3    male  35.0      0      0   \n",
       "\n",
       "             Ticket     Fare Cabin Embarked  \\\n",
       "0         A/5 21171   7.2500   NaN        S   \n",
       "1          PC 17599  71.2833   C85        C   \n",
       "2  STON/O2. 3101282   7.9250   NaN        S   \n",
       "3            113803  53.1000  C123        S   \n",
       "4            373450   8.0500   NaN        S   \n",
       "\n",
       "                                                Name  \n",
       "0                            Braund, Mr. Owen Harris  \n",
       "1  Cumings, Mrs. John Bradley (Florence Briggs Th...  \n",
       "2                             Heikkinen, Miss. Laina  \n",
       "3       Futrelle, Mrs. Jacques Heath (Lily May Peel)  \n",
       "4                           Allen, Mr. William Henry  "
      ],
      "text/html": "<div>\n<style scoped>\n    .dataframe tbody tr th:only-of-type {\n        vertical-align: middle;\n    }\n\n    .dataframe tbody tr th {\n        vertical-align: top;\n    }\n\n    .dataframe thead th {\n        text-align: right;\n    }\n</style>\n<table border=\"1\" class=\"dataframe\">\n  <thead>\n    <tr style=\"text-align: right;\">\n      <th></th>\n      <th>PassengerId</th>\n      <th>Survived</th>\n      <th>Pclass</th>\n      <th>Sex</th>\n      <th>Age</th>\n      <th>SibSp</th>\n      <th>Parch</th>\n      <th>Ticket</th>\n      <th>Fare</th>\n      <th>Cabin</th>\n      <th>Embarked</th>\n      <th>Name</th>\n    </tr>\n  </thead>\n  <tbody>\n    <tr>\n      <th>0</th>\n      <td>1</td>\n      <td>0</td>\n      <td>3</td>\n      <td>male</td>\n      <td>22.0</td>\n      <td>1</td>\n      <td>0</td>\n      <td>A/5 21171</td>\n      <td>7.2500</td>\n      <td>NaN</td>\n      <td>S</td>\n      <td>Braund, Mr. Owen Harris</td>\n    </tr>\n    <tr>\n      <th>1</th>\n      <td>2</td>\n      <td>1</td>\n      <td>1</td>\n      <td>female</td>\n      <td>38.0</td>\n      <td>1</td>\n      <td>0</td>\n      <td>PC 17599</td>\n      <td>71.2833</td>\n      <td>C85</td>\n      <td>C</td>\n      <td>Cumings, Mrs. John Bradley (Florence Briggs Th...</td>\n    </tr>\n    <tr>\n      <th>2</th>\n      <td>3</td>\n      <td>1</td>\n      <td>3</td>\n      <td>female</td>\n      <td>26.0</td>\n      <td>0</td>\n      <td>0</td>\n      <td>STON/O2. 3101282</td>\n      <td>7.9250</td>\n      <td>NaN</td>\n      <td>S</td>\n      <td>Heikkinen, Miss. Laina</td>\n    </tr>\n    <tr>\n      <th>3</th>\n      <td>4</td>\n      <td>1</td>\n      <td>1</td>\n      <td>female</td>\n      <td>35.0</td>\n      <td>1</td>\n      <td>0</td>\n      <td>113803</td>\n      <td>53.1000</td>\n      <td>C123</td>\n      <td>S</td>\n      <td>Futrelle, Mrs. Jacques Heath (Lily May Peel)</td>\n    </tr>\n    <tr>\n      <th>4</th>\n      <td>5</td>\n      <td>0</td>\n      <td>3</td>\n      <td>male</td>\n      <td>35.0</td>\n      <td>0</td>\n      <td>0</td>\n      <td>373450</td>\n      <td>8.0500</td>\n      <td>NaN</td>\n      <td>S</td>\n      <td>Allen, Mr. William Henry</td>\n    </tr>\n  </tbody>\n</table>\n</div>"
     },
     "metadata": {},
     "execution_count": 54
    }
   ],
   "source": [
    "#re-ordering columns\n",
    "df_col_reordering = df_col[['PassengerId', 'Survived', 'Pclass', 'Sex', 'Age', 'SibSp','Parch', 'Ticket', 'Fare', 'Cabin', 'Embarked','Name']]\n",
    "df_col_reordering.head()"
   ]
  },
  {
   "cell_type": "code",
   "execution_count": 55,
   "metadata": {},
   "outputs": [
    {
     "output_type": "execute_result",
     "data": {
      "text/plain": [
       "   PassengerId  Survived  Pclass     Sex   Age  SibSp  Parch  \\\n",
       "0            1         0       3    male  22.0      1      0   \n",
       "1            2         1       1  female  38.0      1      0   \n",
       "2            3         1       3  female  26.0      0      0   \n",
       "3            4         1       1  female  35.0      1      0   \n",
       "4            5         0       3    male  35.0      0      0   \n",
       "\n",
       "             Ticket     Fare Cabin Embarked First_Name  \\\n",
       "0         A/5 21171   7.2500   NaN        S     Braund   \n",
       "1          PC 17599  71.2833   C85        C    Cumings   \n",
       "2  STON/O2. 3101282   7.9250   NaN        S  Heikkinen   \n",
       "3            113803  53.1000  C123        S   Futrelle   \n",
       "4            373450   8.0500   NaN        S      Allen   \n",
       "\n",
       "                              Last_Name_Title  \n",
       "0                             Mr. Owen Harris  \n",
       "1  Mrs. John Bradley (Florence Briggs Thayer)  \n",
       "2                                 Miss. Laina  \n",
       "3          Mrs. Jacques Heath (Lily May Peel)  \n",
       "4                           Mr. William Henry  "
      ],
      "text/html": "<div>\n<style scoped>\n    .dataframe tbody tr th:only-of-type {\n        vertical-align: middle;\n    }\n\n    .dataframe tbody tr th {\n        vertical-align: top;\n    }\n\n    .dataframe thead th {\n        text-align: right;\n    }\n</style>\n<table border=\"1\" class=\"dataframe\">\n  <thead>\n    <tr style=\"text-align: right;\">\n      <th></th>\n      <th>PassengerId</th>\n      <th>Survived</th>\n      <th>Pclass</th>\n      <th>Sex</th>\n      <th>Age</th>\n      <th>SibSp</th>\n      <th>Parch</th>\n      <th>Ticket</th>\n      <th>Fare</th>\n      <th>Cabin</th>\n      <th>Embarked</th>\n      <th>First_Name</th>\n      <th>Last_Name_Title</th>\n    </tr>\n  </thead>\n  <tbody>\n    <tr>\n      <th>0</th>\n      <td>1</td>\n      <td>0</td>\n      <td>3</td>\n      <td>male</td>\n      <td>22.0</td>\n      <td>1</td>\n      <td>0</td>\n      <td>A/5 21171</td>\n      <td>7.2500</td>\n      <td>NaN</td>\n      <td>S</td>\n      <td>Braund</td>\n      <td>Mr. Owen Harris</td>\n    </tr>\n    <tr>\n      <th>1</th>\n      <td>2</td>\n      <td>1</td>\n      <td>1</td>\n      <td>female</td>\n      <td>38.0</td>\n      <td>1</td>\n      <td>0</td>\n      <td>PC 17599</td>\n      <td>71.2833</td>\n      <td>C85</td>\n      <td>C</td>\n      <td>Cumings</td>\n      <td>Mrs. John Bradley (Florence Briggs Thayer)</td>\n    </tr>\n    <tr>\n      <th>2</th>\n      <td>3</td>\n      <td>1</td>\n      <td>3</td>\n      <td>female</td>\n      <td>26.0</td>\n      <td>0</td>\n      <td>0</td>\n      <td>STON/O2. 3101282</td>\n      <td>7.9250</td>\n      <td>NaN</td>\n      <td>S</td>\n      <td>Heikkinen</td>\n      <td>Miss. Laina</td>\n    </tr>\n    <tr>\n      <th>3</th>\n      <td>4</td>\n      <td>1</td>\n      <td>1</td>\n      <td>female</td>\n      <td>35.0</td>\n      <td>1</td>\n      <td>0</td>\n      <td>113803</td>\n      <td>53.1000</td>\n      <td>C123</td>\n      <td>S</td>\n      <td>Futrelle</td>\n      <td>Mrs. Jacques Heath (Lily May Peel)</td>\n    </tr>\n    <tr>\n      <th>4</th>\n      <td>5</td>\n      <td>0</td>\n      <td>3</td>\n      <td>male</td>\n      <td>35.0</td>\n      <td>0</td>\n      <td>0</td>\n      <td>373450</td>\n      <td>8.0500</td>\n      <td>NaN</td>\n      <td>S</td>\n      <td>Allen</td>\n      <td>Mr. William Henry</td>\n    </tr>\n  </tbody>\n</table>\n</div>"
     },
     "metadata": {},
     "execution_count": 55
    }
   ],
   "source": [
    "# df_col_reordering[\"new\"]= df_col_reordering[\"Name\"].str.split(\", \", expand=True).loc[:,0]\n",
    "df_col[\"First_Name\"] = df_col[\"Name\"].str.split(\", \", expand=True)[0]\n",
    "df_col[\"Last_Name_Title\"] = df_col[\"Name\"].str.split(\", \", expand=True)[1]\n",
    "df_col.drop(columns=[\"Name\"], inplace=True)\n",
    "df_col.head()"
   ]
  },
  {
   "cell_type": "code",
   "execution_count": 56,
   "metadata": {},
   "outputs": [
    {
     "output_type": "execute_result",
     "data": {
      "text/plain": [
       "   PassengerId  Survived  Pclass     Sex   Age  SibSp  Parch  \\\n",
       "0            1         0       3    male  22.0      1      0   \n",
       "1            2         1       1  female  38.0      1      0   \n",
       "2            3         1       3  female  26.0      0      0   \n",
       "3            4         1       1  female  35.0      1      0   \n",
       "4            5         0       3    male  35.0      0      0   \n",
       "\n",
       "             Ticket     Fare Cabin Embarked First_Name Pass_Title Last_Name  \n",
       "0         A/5 21171   7.2500   NaN        S     Braund         Mr       Owe  \n",
       "1          PC 17599  71.2833   C85        C    Cumings        Mrs       Joh  \n",
       "2  STON/O2. 3101282   7.9250   NaN        S  Heikkinen       Miss     Laina  \n",
       "3            113803  53.1000  C123        S   Futrelle        Mrs    Jacque  \n",
       "4            373450   8.0500   NaN        S      Allen         Mr    Willia  "
      ],
      "text/html": "<div>\n<style scoped>\n    .dataframe tbody tr th:only-of-type {\n        vertical-align: middle;\n    }\n\n    .dataframe tbody tr th {\n        vertical-align: top;\n    }\n\n    .dataframe thead th {\n        text-align: right;\n    }\n</style>\n<table border=\"1\" class=\"dataframe\">\n  <thead>\n    <tr style=\"text-align: right;\">\n      <th></th>\n      <th>PassengerId</th>\n      <th>Survived</th>\n      <th>Pclass</th>\n      <th>Sex</th>\n      <th>Age</th>\n      <th>SibSp</th>\n      <th>Parch</th>\n      <th>Ticket</th>\n      <th>Fare</th>\n      <th>Cabin</th>\n      <th>Embarked</th>\n      <th>First_Name</th>\n      <th>Pass_Title</th>\n      <th>Last_Name</th>\n    </tr>\n  </thead>\n  <tbody>\n    <tr>\n      <th>0</th>\n      <td>1</td>\n      <td>0</td>\n      <td>3</td>\n      <td>male</td>\n      <td>22.0</td>\n      <td>1</td>\n      <td>0</td>\n      <td>A/5 21171</td>\n      <td>7.2500</td>\n      <td>NaN</td>\n      <td>S</td>\n      <td>Braund</td>\n      <td>Mr</td>\n      <td>Owe</td>\n    </tr>\n    <tr>\n      <th>1</th>\n      <td>2</td>\n      <td>1</td>\n      <td>1</td>\n      <td>female</td>\n      <td>38.0</td>\n      <td>1</td>\n      <td>0</td>\n      <td>PC 17599</td>\n      <td>71.2833</td>\n      <td>C85</td>\n      <td>C</td>\n      <td>Cumings</td>\n      <td>Mrs</td>\n      <td>Joh</td>\n    </tr>\n    <tr>\n      <th>2</th>\n      <td>3</td>\n      <td>1</td>\n      <td>3</td>\n      <td>female</td>\n      <td>26.0</td>\n      <td>0</td>\n      <td>0</td>\n      <td>STON/O2. 3101282</td>\n      <td>7.9250</td>\n      <td>NaN</td>\n      <td>S</td>\n      <td>Heikkinen</td>\n      <td>Miss</td>\n      <td>Laina</td>\n    </tr>\n    <tr>\n      <th>3</th>\n      <td>4</td>\n      <td>1</td>\n      <td>1</td>\n      <td>female</td>\n      <td>35.0</td>\n      <td>1</td>\n      <td>0</td>\n      <td>113803</td>\n      <td>53.1000</td>\n      <td>C123</td>\n      <td>S</td>\n      <td>Futrelle</td>\n      <td>Mrs</td>\n      <td>Jacque</td>\n    </tr>\n    <tr>\n      <th>4</th>\n      <td>5</td>\n      <td>0</td>\n      <td>3</td>\n      <td>male</td>\n      <td>35.0</td>\n      <td>0</td>\n      <td>0</td>\n      <td>373450</td>\n      <td>8.0500</td>\n      <td>NaN</td>\n      <td>S</td>\n      <td>Allen</td>\n      <td>Mr</td>\n      <td>Willia</td>\n    </tr>\n  </tbody>\n</table>\n</div>"
     },
     "metadata": {},
     "execution_count": 56
    }
   ],
   "source": [
    "df_col[\"Pass_Title\"] = df_col[\"Last_Name_Title\"].str.split(\". \", expand=True)[0]\n",
    "df_col[\"Last_Name\"] = df_col[\"Last_Name_Title\"].str.split(\". \", expand=True)[1]\n",
    "df_col.drop(columns=[\"Last_Name_Title\"], inplace=True)\n",
    "df_col.head()"
   ]
  },
  {
   "cell_type": "code",
   "execution_count": 57,
   "metadata": {},
   "outputs": [
    {
     "output_type": "execute_result",
     "data": {
      "text/plain": [
       "   PassengerId  Survived  Pclass Pass_Title  Gender   Age  SibSp  Parch  \\\n",
       "0            1         0       3         Mr    male  22.0      1      0   \n",
       "1            2         1       1        Mrs  female  38.0      1      0   \n",
       "2            3         1       3       Miss  female  26.0      0      0   \n",
       "3            4         1       1        Mrs  female  35.0      1      0   \n",
       "4            5         0       3         Mr    male  35.0      0      0   \n",
       "\n",
       "             Ticket     Fare Cabin Embarked First_Name Last_Name  \n",
       "0         A/5 21171   7.2500   NaN        S     Braund       Owe  \n",
       "1          PC 17599  71.2833   C85        C    Cumings       Joh  \n",
       "2  STON/O2. 3101282   7.9250   NaN        S  Heikkinen     Laina  \n",
       "3            113803  53.1000  C123        S   Futrelle    Jacque  \n",
       "4            373450   8.0500   NaN        S      Allen    Willia  "
      ],
      "text/html": "<div>\n<style scoped>\n    .dataframe tbody tr th:only-of-type {\n        vertical-align: middle;\n    }\n\n    .dataframe tbody tr th {\n        vertical-align: top;\n    }\n\n    .dataframe thead th {\n        text-align: right;\n    }\n</style>\n<table border=\"1\" class=\"dataframe\">\n  <thead>\n    <tr style=\"text-align: right;\">\n      <th></th>\n      <th>PassengerId</th>\n      <th>Survived</th>\n      <th>Pclass</th>\n      <th>Pass_Title</th>\n      <th>Gender</th>\n      <th>Age</th>\n      <th>SibSp</th>\n      <th>Parch</th>\n      <th>Ticket</th>\n      <th>Fare</th>\n      <th>Cabin</th>\n      <th>Embarked</th>\n      <th>First_Name</th>\n      <th>Last_Name</th>\n    </tr>\n  </thead>\n  <tbody>\n    <tr>\n      <th>0</th>\n      <td>1</td>\n      <td>0</td>\n      <td>3</td>\n      <td>Mr</td>\n      <td>male</td>\n      <td>22.0</td>\n      <td>1</td>\n      <td>0</td>\n      <td>A/5 21171</td>\n      <td>7.2500</td>\n      <td>NaN</td>\n      <td>S</td>\n      <td>Braund</td>\n      <td>Owe</td>\n    </tr>\n    <tr>\n      <th>1</th>\n      <td>2</td>\n      <td>1</td>\n      <td>1</td>\n      <td>Mrs</td>\n      <td>female</td>\n      <td>38.0</td>\n      <td>1</td>\n      <td>0</td>\n      <td>PC 17599</td>\n      <td>71.2833</td>\n      <td>C85</td>\n      <td>C</td>\n      <td>Cumings</td>\n      <td>Joh</td>\n    </tr>\n    <tr>\n      <th>2</th>\n      <td>3</td>\n      <td>1</td>\n      <td>3</td>\n      <td>Miss</td>\n      <td>female</td>\n      <td>26.0</td>\n      <td>0</td>\n      <td>0</td>\n      <td>STON/O2. 3101282</td>\n      <td>7.9250</td>\n      <td>NaN</td>\n      <td>S</td>\n      <td>Heikkinen</td>\n      <td>Laina</td>\n    </tr>\n    <tr>\n      <th>3</th>\n      <td>4</td>\n      <td>1</td>\n      <td>1</td>\n      <td>Mrs</td>\n      <td>female</td>\n      <td>35.0</td>\n      <td>1</td>\n      <td>0</td>\n      <td>113803</td>\n      <td>53.1000</td>\n      <td>C123</td>\n      <td>S</td>\n      <td>Futrelle</td>\n      <td>Jacque</td>\n    </tr>\n    <tr>\n      <th>4</th>\n      <td>5</td>\n      <td>0</td>\n      <td>3</td>\n      <td>Mr</td>\n      <td>male</td>\n      <td>35.0</td>\n      <td>0</td>\n      <td>0</td>\n      <td>373450</td>\n      <td>8.0500</td>\n      <td>NaN</td>\n      <td>S</td>\n      <td>Allen</td>\n      <td>Willia</td>\n    </tr>\n  </tbody>\n</table>\n</div>"
     },
     "metadata": {},
     "execution_count": 57
    }
   ],
   "source": [
    "df_col_fixed = df_col[['PassengerId', 'Survived', 'Pclass', 'Pass_Title', 'Sex', 'Age', 'SibSp', 'Parch',\n",
    "       'Ticket', 'Fare', 'Cabin', 'Embarked', 'First_Name',\n",
    "       'Last_Name']]\n",
    "df_col_fixed.rename(columns={\"Sex\":\"Gender\"}, inplace=True)\n",
    "df_col_fixed.head()"
   ]
  },
  {
   "cell_type": "code",
   "execution_count": 58,
   "metadata": {},
   "outputs": [
    {
     "output_type": "execute_result",
     "data": {
      "text/plain": [
       "Mr          517\n",
       "Miss        182\n",
       "Mrs         125\n",
       "Master       40\n",
       "Dr            7\n",
       "Rev           6\n",
       "Col           2\n",
       "Major         2\n",
       "Mlle          2\n",
       "Don           1\n",
       "Lady          1\n",
       "Jonkheer      1\n",
       "Ms            1\n",
       "th            1\n",
       "Mme           1\n",
       "Sir           1\n",
       "Capt          1\n",
       "Name: Pass_Title, dtype: int64"
      ]
     },
     "metadata": {},
     "execution_count": 58
    }
   ],
   "source": [
    "df_col_fixed[\"Pass_Title\"].value_counts()"
   ]
  },
  {
   "cell_type": "code",
   "execution_count": 59,
   "metadata": {},
   "outputs": [
    {
     "output_type": "execute_result",
     "data": {
      "text/plain": [
       "Mr          False\n",
       "Miss        False\n",
       "Mrs         False\n",
       "Master      False\n",
       "Dr          False\n",
       "Rev         False\n",
       "Col         False\n",
       "Major       False\n",
       "Mlle        False\n",
       "Don         False\n",
       "Lady        False\n",
       "Jonkheer    False\n",
       "Ms          False\n",
       "th          False\n",
       "Mme         False\n",
       "Sir         False\n",
       "Capt        False\n",
       "Name: Pass_Title, dtype: bool"
      ]
     },
     "metadata": {},
     "execution_count": 59
    }
   ],
   "source": [
    "df_col_fixed[\"Pass_Title\"].value_counts().isna()"
   ]
  },
  {
   "cell_type": "code",
   "execution_count": 60,
   "metadata": {},
   "outputs": [
    {
     "output_type": "execute_result",
     "data": {
      "text/plain": [
       "Pass_Title\n",
       "Mr          517\n",
       "Miss        182\n",
       "Mrs         125\n",
       "Master       40\n",
       "Dr            7\n",
       "Rev           6\n",
       "Col           2\n",
       "Mlle          2\n",
       "Major         2\n",
       "Jonkheer      1\n",
       "Don           1\n",
       "th            1\n",
       "Lady          1\n",
       "Sir           1\n",
       "Mme           1\n",
       "Ms            1\n",
       "Capt          1\n",
       "Name: Survived, dtype: int64"
      ]
     },
     "metadata": {},
     "execution_count": 60
    }
   ],
   "source": [
    "df_col_fixed.groupby([\"Pass_Title\"])[\"Survived\"].count().sort_values(ascending=False)"
   ]
  },
  {
   "cell_type": "code",
   "execution_count": 61,
   "metadata": {},
   "outputs": [
    {
     "output_type": "execute_result",
     "data": {
      "text/plain": [
       "     PassengerId  Survived  Pclass Pass_Title  Gender   Age  SibSp  Parch  \\\n",
       "759          760         1       1         th  female  33.0      0      0   \n",
       "\n",
       "     Ticket  Fare Cabin Embarked First_Name Last_Name  \n",
       "759  110152  86.5   B77        S     Rothes  Countess  "
      ],
      "text/html": "<div>\n<style scoped>\n    .dataframe tbody tr th:only-of-type {\n        vertical-align: middle;\n    }\n\n    .dataframe tbody tr th {\n        vertical-align: top;\n    }\n\n    .dataframe thead th {\n        text-align: right;\n    }\n</style>\n<table border=\"1\" class=\"dataframe\">\n  <thead>\n    <tr style=\"text-align: right;\">\n      <th></th>\n      <th>PassengerId</th>\n      <th>Survived</th>\n      <th>Pclass</th>\n      <th>Pass_Title</th>\n      <th>Gender</th>\n      <th>Age</th>\n      <th>SibSp</th>\n      <th>Parch</th>\n      <th>Ticket</th>\n      <th>Fare</th>\n      <th>Cabin</th>\n      <th>Embarked</th>\n      <th>First_Name</th>\n      <th>Last_Name</th>\n    </tr>\n  </thead>\n  <tbody>\n    <tr>\n      <th>759</th>\n      <td>760</td>\n      <td>1</td>\n      <td>1</td>\n      <td>th</td>\n      <td>female</td>\n      <td>33.0</td>\n      <td>0</td>\n      <td>0</td>\n      <td>110152</td>\n      <td>86.5</td>\n      <td>B77</td>\n      <td>S</td>\n      <td>Rothes</td>\n      <td>Countess</td>\n    </tr>\n  </tbody>\n</table>\n</div>"
     },
     "metadata": {},
     "execution_count": 61
    }
   ],
   "source": [
    "Title = df_col_fixed.groupby([\"Pass_Title\"])\n",
    "Title.get_group(\"th\")"
   ]
  },
  {
   "cell_type": "code",
   "execution_count": 62,
   "metadata": {},
   "outputs": [
    {
     "output_type": "execute_result",
     "data": {
      "text/plain": [
       "PassengerId         760\n",
       "Survived              1\n",
       "Pclass                1\n",
       "Sex              female\n",
       "Age                  33\n",
       "SibSp                 0\n",
       "Parch                 0\n",
       "Ticket           110152\n",
       "Fare               86.5\n",
       "Cabin               B77\n",
       "Embarked              S\n",
       "First_Name       Rothes\n",
       "Pass_Title           th\n",
       "Last_Name      Countess\n",
       "Name: 759, dtype: object"
      ]
     },
     "metadata": {},
     "execution_count": 62
    }
   ],
   "source": [
    "df_col.iloc[759]"
   ]
  },
  {
   "cell_type": "code",
   "execution_count": 63,
   "metadata": {},
   "outputs": [
    {
     "output_type": "execute_result",
     "data": {
      "text/plain": [
       "'Rothes, the Countess. of (Lucy Noel Martha Dyer-Edwards)'"
      ]
     },
     "metadata": {},
     "execution_count": 63
    }
   ],
   "source": [
    "df.loc[759,\"Name\"]"
   ]
  },
  {
   "cell_type": "code",
   "execution_count": 65,
   "metadata": {},
   "outputs": [
    {
     "output_type": "execute_result",
     "data": {
      "text/plain": [
       "PassengerId         760\n",
       "Survived              1\n",
       "Pclass                1\n",
       "Pass_Title           th\n",
       "Gender           female\n",
       "Age                  33\n",
       "SibSp                 0\n",
       "Parch                 0\n",
       "Ticket           110152\n",
       "Fare               86.5\n",
       "Cabin               B77\n",
       "Embarked              S\n",
       "First_Name       Rothes\n",
       "Last_Name      Countess\n",
       "Name: 759, dtype: object"
      ]
     },
     "metadata": {},
     "execution_count": 65
    }
   ],
   "source": [
    "df_col_fixed.loc[759]"
   ]
  },
  {
   "cell_type": "code",
   "execution_count": 69,
   "metadata": {},
   "outputs": [
    {
     "output_type": "execute_result",
     "data": {
      "text/plain": [
       "PassengerId                 760\n",
       "Survived                      1\n",
       "Pclass                        1\n",
       "Pass_Title     the Countess. of\n",
       "Gender                   female\n",
       "Age                          33\n",
       "SibSp                         0\n",
       "Parch                         0\n",
       "Ticket                   110152\n",
       "Fare                       86.5\n",
       "Cabin                       B77\n",
       "Embarked                      S\n",
       "First_Name               Rothes\n",
       "Last_Name              Countess\n",
       "Name: 759, dtype: object"
      ]
     },
     "metadata": {},
     "execution_count": 69
    }
   ],
   "source": [
    "df_col_fixed.loc[759, \"Pass_Title\"] = \"the Countess. of\"\n",
    "df_col_fixed.loc[759]"
   ]
  },
  {
   "cell_type": "code",
   "execution_count": 72,
   "metadata": {},
   "outputs": [
    {
     "output_type": "execute_result",
     "data": {
      "text/plain": [
       "PassengerId                                760\n",
       "Survived                                     1\n",
       "Pclass                                       1\n",
       "Pass_Title                    the Countess. of\n",
       "Gender                                  female\n",
       "Age                                         33\n",
       "SibSp                                        0\n",
       "Parch                                        0\n",
       "Ticket                                  110152\n",
       "Fare                                      86.5\n",
       "Cabin                                      B77\n",
       "Embarked                                     S\n",
       "First_Name                              Rothes\n",
       "Last_Name      (Lucy Noel Martha Dyer-Edwards)\n",
       "Name: 759, dtype: object"
      ]
     },
     "metadata": {},
     "execution_count": 72
    }
   ],
   "source": [
    "df_col_fixed.loc[759,\"Last_Name\"] = \"(Lucy Noel Martha Dyer-Edwards)\"\n",
    "df_col_fixed.loc[759]"
   ]
  },
  {
   "cell_type": "code",
   "execution_count": 76,
   "metadata": {},
   "outputs": [
    {
     "output_type": "execute_result",
     "data": {
      "text/plain": [
       "Mr                  517\n",
       "Miss                182\n",
       "Mrs                 125\n",
       "Master               40\n",
       "Dr                    7\n",
       "Rev                   6\n",
       "Col                   2\n",
       "Major                 2\n",
       "Mlle                  2\n",
       "Jonkheer              1\n",
       "Don                   1\n",
       "Lady                  1\n",
       "the Countess. of      1\n",
       "Ms                    1\n",
       "Mme                   1\n",
       "Sir                   1\n",
       "Capt                  1\n",
       "Name: Pass_Title, dtype: int64"
      ]
     },
     "metadata": {},
     "execution_count": 76
    }
   ],
   "source": [
    "df_col_fixed[\"Pass_Title\"].value_counts()"
   ]
  },
  {
   "cell_type": "code",
   "execution_count": 112,
   "metadata": {},
   "outputs": [
    {
     "output_type": "execute_result",
     "data": {
      "text/plain": [
       "Pass_Title        Gender\n",
       "Dr                female      1\n",
       "Lady              female      1\n",
       "Miss              female    127\n",
       "Mlle              female      2\n",
       "Mme               female      1\n",
       "Mrs               female     99\n",
       "Ms                female      1\n",
       "the Countess. of  female      1\n",
       "Capt              male        0\n",
       "Col               male        1\n",
       "Don               male        0\n",
       "Dr                male        2\n",
       "Jonkheer          male        0\n",
       "Major             male        1\n",
       "Master            male       23\n",
       "Mr                male       81\n",
       "Rev               male        0\n",
       "Sir               male        1\n",
       "Name: Survived, dtype: int64"
      ]
     },
     "metadata": {},
     "execution_count": 112
    }
   ],
   "source": [
    "T = df_col_fixed.groupby([\"Pass_Title\",\"Gender\"])[\"Survived\"].sum()\n",
    "T.sort_index(level=1)"
   ]
  },
  {
   "cell_type": "code",
   "execution_count": 121,
   "metadata": {},
   "outputs": [
    {
     "output_type": "execute_result",
     "data": {
      "text/plain": [
       "          Pass_Title  Gender  Survived  Sum_Gender\n",
       "17  the Countess. of  female         1         233\n",
       "14                Ms  female         1         233\n",
       "3                 Dr  female         1         233\n",
       "13               Mrs  female        99         233\n",
       "6               Lady  female         1         233\n",
       "11               Mme  female         1         233\n",
       "10              Mlle  female         2         233\n",
       "9               Miss  female       127         233\n",
       "15               Rev    male         0         109\n",
       "12                Mr    male        81         109\n",
       "0               Capt    male         0         109\n",
       "7              Major    male         1         109\n",
       "5           Jonkheer    male         0         109\n",
       "4                 Dr    male         2         109\n",
       "2                Don    male         0         109\n",
       "1                Col    male         1         109\n",
       "16               Sir    male         1         109\n",
       "8             Master    male        23         109"
      ],
      "text/html": "<div>\n<style scoped>\n    .dataframe tbody tr th:only-of-type {\n        vertical-align: middle;\n    }\n\n    .dataframe tbody tr th {\n        vertical-align: top;\n    }\n\n    .dataframe thead th {\n        text-align: right;\n    }\n</style>\n<table border=\"1\" class=\"dataframe\">\n  <thead>\n    <tr style=\"text-align: right;\">\n      <th></th>\n      <th>Pass_Title</th>\n      <th>Gender</th>\n      <th>Survived</th>\n      <th>Sum_Gender</th>\n    </tr>\n  </thead>\n  <tbody>\n    <tr>\n      <th>17</th>\n      <td>the Countess. of</td>\n      <td>female</td>\n      <td>1</td>\n      <td>233</td>\n    </tr>\n    <tr>\n      <th>14</th>\n      <td>Ms</td>\n      <td>female</td>\n      <td>1</td>\n      <td>233</td>\n    </tr>\n    <tr>\n      <th>3</th>\n      <td>Dr</td>\n      <td>female</td>\n      <td>1</td>\n      <td>233</td>\n    </tr>\n    <tr>\n      <th>13</th>\n      <td>Mrs</td>\n      <td>female</td>\n      <td>99</td>\n      <td>233</td>\n    </tr>\n    <tr>\n      <th>6</th>\n      <td>Lady</td>\n      <td>female</td>\n      <td>1</td>\n      <td>233</td>\n    </tr>\n    <tr>\n      <th>11</th>\n      <td>Mme</td>\n      <td>female</td>\n      <td>1</td>\n      <td>233</td>\n    </tr>\n    <tr>\n      <th>10</th>\n      <td>Mlle</td>\n      <td>female</td>\n      <td>2</td>\n      <td>233</td>\n    </tr>\n    <tr>\n      <th>9</th>\n      <td>Miss</td>\n      <td>female</td>\n      <td>127</td>\n      <td>233</td>\n    </tr>\n    <tr>\n      <th>15</th>\n      <td>Rev</td>\n      <td>male</td>\n      <td>0</td>\n      <td>109</td>\n    </tr>\n    <tr>\n      <th>12</th>\n      <td>Mr</td>\n      <td>male</td>\n      <td>81</td>\n      <td>109</td>\n    </tr>\n    <tr>\n      <th>0</th>\n      <td>Capt</td>\n      <td>male</td>\n      <td>0</td>\n      <td>109</td>\n    </tr>\n    <tr>\n      <th>7</th>\n      <td>Major</td>\n      <td>male</td>\n      <td>1</td>\n      <td>109</td>\n    </tr>\n    <tr>\n      <th>5</th>\n      <td>Jonkheer</td>\n      <td>male</td>\n      <td>0</td>\n      <td>109</td>\n    </tr>\n    <tr>\n      <th>4</th>\n      <td>Dr</td>\n      <td>male</td>\n      <td>2</td>\n      <td>109</td>\n    </tr>\n    <tr>\n      <th>2</th>\n      <td>Don</td>\n      <td>male</td>\n      <td>0</td>\n      <td>109</td>\n    </tr>\n    <tr>\n      <th>1</th>\n      <td>Col</td>\n      <td>male</td>\n      <td>1</td>\n      <td>109</td>\n    </tr>\n    <tr>\n      <th>16</th>\n      <td>Sir</td>\n      <td>male</td>\n      <td>1</td>\n      <td>109</td>\n    </tr>\n    <tr>\n      <th>8</th>\n      <td>Master</td>\n      <td>male</td>\n      <td>23</td>\n      <td>109</td>\n    </tr>\n  </tbody>\n</table>\n</div>"
     },
     "metadata": {},
     "execution_count": 121
    }
   ],
   "source": [
    "T1 = T.reset_index()\n",
    "T1[\"Sum_Gender\"] = T1[\"Survived\"].groupby(T1[\"Gender\"]).transform(\"sum\")\n",
    "T1.sort_values([\"Gender\"])\n",
    "\n",
    "# grp[\"Survived\"].groupby(grp[\"Pclass\"]).transform(\"sum\")"
   ]
  }
 ]
}