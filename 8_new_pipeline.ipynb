{
 "metadata": {
  "language_info": {
   "codemirror_mode": {
    "name": "ipython",
    "version": 3
   },
   "file_extension": ".py",
   "mimetype": "text/x-python",
   "name": "python",
   "nbconvert_exporter": "python",
   "pygments_lexer": "ipython3",
   "version": "3.7.10"
  },
  "orig_nbformat": 2,
  "kernelspec": {
   "name": "python3710jvsc74a57bd000fbe7a0ffdff41cb6153984e119c63b68f43f50190a26a2d6b6229a722be293",
   "display_name": "Python 3.7.10 64-bit (conda)"
  }
 },
 "nbformat": 4,
 "nbformat_minor": 2,
 "cells": [
  {
   "source": [
    "# Pipeline"
   ],
   "cell_type": "markdown",
   "metadata": {}
  },
  {
   "source": [
    "## Libraries"
   ],
   "cell_type": "markdown",
   "metadata": {}
  },
  {
   "cell_type": "code",
   "execution_count": 374,
   "metadata": {},
   "outputs": [],
   "source": [
    "#general use and reading in the data\n",
    "import os\n",
    "import numpy as np\n",
    "import pandas as pd\n",
    "\n",
    "#train test split\n",
    "from sklearn.model_selection import train_test_split\n",
    "\n",
    "#pipeline\n",
    "from sklearn.pipeline import Pipeline\n",
    "\n",
    "#transformer\n",
    "from sklearn.preprocessing import OneHotEncoder\n",
    "from sklearn.preprocessing import StandardScaler\n",
    "from sklearn.compose import ColumnTransformer\n",
    "\n",
    "#GridSearchCV\n",
    "from sklearn.model_selection import GridSearchCV\n",
    "\n",
    "#models\n",
    "from sklearn.svm import SVC\n",
    "from sklearn.neighbors import KNeighborsClassifier\n",
    "from sklearn.linear_model import LogisticRegression"
   ]
  },
  {
   "source": [
    "## 1. Reading in the data"
   ],
   "cell_type": "markdown",
   "metadata": {}
  },
  {
   "cell_type": "code",
   "execution_count": 375,
   "metadata": {},
   "outputs": [],
   "source": [
    "pwd = os.getcwd()\n",
    "data = os.path.join(pwd, \"data.csv\")\n",
    "df = pd.read_csv(data)"
   ]
  },
  {
   "source": [
    "## 2. Features and Target Selection"
   ],
   "cell_type": "markdown",
   "metadata": {}
  },
  {
   "cell_type": "code",
   "execution_count": 376,
   "metadata": {},
   "outputs": [],
   "source": [
    "features = df[[\"Pclass\", \"Sex\", \"Fare\"]]\n",
    "target = df[[\"Survived\"]]"
   ]
  },
  {
   "source": [
    "## 3. Spliting Data"
   ],
   "cell_type": "markdown",
   "metadata": {}
  },
  {
   "cell_type": "code",
   "execution_count": 377,
   "metadata": {},
   "outputs": [],
   "source": [
    "X_train, X_test, y_train, y_test = train_test_split(features,target, stratify=target, random_state=0)"
   ]
  },
  {
   "source": [
    "## 4. Preprocessing and Pipeline\n",
    "\n",
    "- Pipeline: during the call to *Pipline.fit*, the pipeline calls *fit* and then *transform* on each step in turn, with the input given by the output of the *transform* method of the previous step.\n",
    "- for the last step in the pipeline. just *fit* is called\n",
    "\n",
    "https://towardsdatascience.com/pipeline-columntransformer-and-featureunion-explained-f5491f815f\n",
    "\n",
    "https://scikit-learn.org/stable/tutorial/machine_learning_map/index.html"
   ],
   "cell_type": "markdown",
   "metadata": {}
  },
  {
   "cell_type": "code",
   "execution_count": 378,
   "metadata": {},
   "outputs": [],
   "source": [
    "#preprocessing \n",
    "#step 1: define categorical and numerical columns\n",
    "categorical = [\"Pclass\", \"Sex\"]\n",
    "numerical = [\"Fare\"]\n",
    "\n",
    "#step 2: create pipeline for grouped columns\n",
    "#categorical pipeline\n",
    "cat_pipe = Pipeline([\n",
    "    (\"encoder\", OneHotEncoder(handle_unknown=\"ignore\", sparse=False))\n",
    "])\n",
    "\n",
    "#numerical pipeline\n",
    "num_pipe = Pipeline([\n",
    "    (\"scaler\", StandardScaler())\n",
    "])\n",
    "\n",
    "#columntransformer, binding grouped columns together\n",
    "preprocessor = ColumnTransformer(\n",
    "    transformers=[\n",
    "        (\"cat_pipe\", cat_pipe, categorical),\n",
    "        (\"num_pipe\", num_pipe, numerical)\n",
    "    ]\n",
    ")\n",
    "\n",
    "#pipeline\n",
    "pipe = Pipeline(\n",
    "    steps=[\n",
    "        (\"preprocessor\",preprocessor),\n",
    "        (\"classifier\", SVC())\n",
    "    ]\n",
    ")"
   ]
  },
  {
   "source": [
    "## 4.1 Accessing steps in pipeline"
   ],
   "cell_type": "markdown",
   "metadata": {}
  },
  {
   "cell_type": "code",
   "execution_count": 389,
   "metadata": {},
   "outputs": [
    {
     "output_type": "execute_result",
     "data": {
      "text/plain": [
       "[('preprocessor',\n",
       "  ColumnTransformer(transformers=[('cat_pipe',\n",
       "                                   Pipeline(steps=[('encoder',\n",
       "                                                    OneHotEncoder(handle_unknown='ignore',\n",
       "                                                                  sparse=False))]),\n",
       "                                   ['Pclass', 'Sex']),\n",
       "                                  ('num_pipe',\n",
       "                                   Pipeline(steps=[('scaler', StandardScaler())]),\n",
       "                                   ['Fare'])])),\n",
       " ('classifier', SVC())]"
      ]
     },
     "metadata": {},
     "execution_count": 389
    }
   ],
   "source": [
    "pipe.steps"
   ]
  },
  {
   "cell_type": "code",
   "execution_count": 392,
   "metadata": {},
   "outputs": [
    {
     "output_type": "execute_result",
     "data": {
      "text/plain": [
       "ColumnTransformer(transformers=[('cat_pipe',\n",
       "                                 Pipeline(steps=[('encoder',\n",
       "                                                  OneHotEncoder(handle_unknown='ignore',\n",
       "                                                                sparse=False))]),\n",
       "                                 ['Pclass', 'Sex']),\n",
       "                                ('num_pipe',\n",
       "                                 Pipeline(steps=[('scaler', StandardScaler())]),\n",
       "                                 ['Fare'])])"
      ]
     },
     "metadata": {},
     "execution_count": 392
    }
   ],
   "source": [
    "pipe.steps[0][1]"
   ]
  },
  {
   "cell_type": "code",
   "execution_count": 379,
   "metadata": {},
   "outputs": [],
   "source": [
    "# pipe.fit(X_train, np.ravel(y_train))\n",
    "# pipe.score(X_test, y_test)"
   ]
  },
  {
   "source": [
    "## 5. Grid Search CV\n",
    "1. parameters\n",
    "2. GridSearchCV\n",
    "3. .fit, .best_params_, .best_score_, .score(X_test, y_test)"
   ],
   "cell_type": "markdown",
   "metadata": {}
  },
  {
   "cell_type": "code",
   "execution_count": 380,
   "metadata": {},
   "outputs": [],
   "source": [
    "param_grid = [\n",
    "    #svc\n",
    "    {\n",
    "        \"classifier\":[SVC()],\n",
    "        \"preprocessor\":[preprocessor],\n",
    "        \"classifier__C\":[0.001, 0.01, 0.1, 1, 10, 100],\n",
    "        \"classifier__gamma\":[0.001, 0.01, 0.1, 1, 10, 100]\n",
    "    },\n",
    "    #knn\n",
    "    {\n",
    "        \"classifier\":[KNeighborsClassifier()],\n",
    "        \"preprocessor\":[preprocessor],\n",
    "        \"classifier__n_neighbors\":[1,2,3,4,5,6,7,8,9,10,11,12,13,14,15]\n",
    "    },\n",
    "    #logreg\n",
    "    {\n",
    "        \"classifier\":[LogisticRegression()],\n",
    "        \"preprocessor\":[preprocessor],\n",
    "        \"classifier__C\":[0.001, 0.01, 0.1, 1, 10, 100]\n",
    "    }\n",
    "]"
   ]
  },
  {
   "cell_type": "code",
   "execution_count": 381,
   "metadata": {
    "tags": []
   },
   "outputs": [
    {
     "output_type": "execute_result",
     "data": {
      "text/plain": [
       "GridSearchCV(cv=5,\n",
       "             estimator=Pipeline(steps=[('preprocessor',\n",
       "                                        ColumnTransformer(transformers=[('cat_pipe',\n",
       "                                                                         Pipeline(steps=[('encoder',\n",
       "                                                                                          OneHotEncoder(handle_unknown='ignore',\n",
       "                                                                                                        sparse=False))]),\n",
       "                                                                         ['Pclass',\n",
       "                                                                          'Sex']),\n",
       "                                                                        ('num_pipe',\n",
       "                                                                         Pipeline(steps=[('scaler',\n",
       "                                                                                          StandardScaler())]),\n",
       "                                                                         ['Fare'])])),\n",
       "                                       ('classifier', SVC())]),\n",
       "             param_grid=[{'classifier': [SVC(C=100, gamma=0.1)],\n",
       "                          'cl...\n",
       "                                                                            Pipeline(steps=[('scaler',\n",
       "                                                                                             StandardScaler())]),\n",
       "                                                                            ['Fare'])])]},\n",
       "                         {'classifier': [LogisticRegression()],\n",
       "                          'classifier__C': [0.001, 0.01, 0.1, 1, 10, 100],\n",
       "                          'preprocessor': [ColumnTransformer(transformers=[('cat_pipe',\n",
       "                                                                            Pipeline(steps=[('encoder',\n",
       "                                                                                             OneHotEncoder(handle_unknown='ignore',\n",
       "                                                                                                           sparse=False))]),\n",
       "                                                                            ['Pclass',\n",
       "                                                                             'Sex']),\n",
       "                                                                           ('num_pipe',\n",
       "                                                                            Pipeline(steps=[('scaler',\n",
       "                                                                                             StandardScaler())]),\n",
       "                                                                            ['Fare'])])]}])"
      ]
     },
     "metadata": {},
     "execution_count": 381
    }
   ],
   "source": [
    "grid = GridSearchCV(pipe, param_grid=param_grid, cv=5)\n",
    "grid.fit(X_train, np.ravel(y_train))"
   ]
  },
  {
   "cell_type": "code",
   "execution_count": 398,
   "metadata": {},
   "outputs": [
    {
     "output_type": "stream",
     "name": "stdout",
     "text": [
      "Test-set score: 0.780269\n\nBest cross-validaiton score: 0.81430\nBest params:\n{'classifier': SVC(C=100, gamma=0.1), 'classifier__C': 100, 'classifier__gamma': 0.1, 'preprocessor': ColumnTransformer(transformers=[('cat_pipe',\n                                 Pipeline(steps=[('encoder',\n                                                  OneHotEncoder(handle_unknown='ignore',\n                                                                sparse=False))]),\n                                 ['Pclass', 'Sex']),\n                                ('num_pipe',\n                                 Pipeline(steps=[('scaler', StandardScaler())]),\n                                 ['Fare'])])}\n\nBest best_estimator_: Pipeline(steps=[('preprocessor',\n                 ColumnTransformer(transformers=[('cat_pipe',\n                                                  Pipeline(steps=[('encoder',\n                                                                   OneHotEncoder(handle_unknown='ignore',\n                                                                                 sparse=False))]),\n                                                  ['Pclass', 'Sex']),\n                                                 ('num_pipe',\n                                                  Pipeline(steps=[('scaler',\n                                                                   StandardScaler())]),\n                                                  ['Fare'])])),\n                ('classifier', SVC(C=100, gamma=0.1))])\n"
     ]
    }
   ],
   "source": [
    "print(\n",
    "    \"Test-set score: {:5f}\\n\".format(grid.score(X_test, y_test))\n",
    ")\n",
    "print(\n",
    "    \"Best cross-validaiton score: {:.5f}\".format(grid.best_score_)\n",
    ")\n",
    "print(\n",
    "    \"Best params:\\n{}\\n\".format(grid.best_params_)\n",
    ")\n",
    "print(\n",
    "    \"Best best_estimator_: {}\".format(grid.best_estimator_)\n",
    ")"
   ]
  }
 ]
}