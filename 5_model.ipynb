{
 "metadata": {
  "language_info": {
   "codemirror_mode": {
    "name": "ipython",
    "version": 3
   },
   "file_extension": ".py",
   "mimetype": "text/x-python",
   "name": "python",
   "nbconvert_exporter": "python",
   "pygments_lexer": "ipython3",
   "version": "3.7.10"
  },
  "orig_nbformat": 2,
  "kernelspec": {
   "name": "python3710jvsc74a57bd000fbe7a0ffdff41cb6153984e119c63b68f43f50190a26a2d6b6229a722be293",
   "display_name": "Python 3.7.10 64-bit (conda)"
  }
 },
 "nbformat": 4,
 "nbformat_minor": 2,
 "cells": [
  {
   "source": [
    "# Supervised Machine Learning Models (Classificaiton)\n",
    "-  **Classification**: Finding the distinct value of outcomes, referred as class. Example, species of iris ([included in sklearn]) is a three-class classification, aka. Multi-class classification. Binary classification refers to outcomes of either or values, e.g.  Survival of passengers in Titanic ([kaggle])  \n",
    " - **Regression**:  Finding a continuous number in a range, aka *floating-point *number (programming terms) or *real number* (mathematical terms). Example included housing price in Boston ([included in sklearn])"
   ],
   "cell_type": "markdown",
   "metadata": {}
  },
  {
   "source": [
    "## Libraries"
   ],
   "cell_type": "markdown",
   "metadata": {}
  },
  {
   "cell_type": "code",
   "execution_count": 102,
   "metadata": {},
   "outputs": [],
   "source": [
    "import os\n",
    "import pandas as pd\n",
    "import numpy as np\n",
    "from sklearn.model_selection import train_test_split\n",
    "from sklearn.preprocessing import OneHotEncoder\n",
    "from sklearn.preprocessing import StandardScaler\n",
    "from sklearn.compose import ColumnTransformer\n",
    "\n",
    "#k-Nearest Neighbours\n",
    "from sklearn.neighbors import KNeighborsClassifier\n",
    "\n",
    "#Logistic Regression - a type of linear model\n",
    "from sklearn.linear_model import LogisticRegression\n",
    "\n",
    "#Linear support vector - a type of linear model\n",
    "from sklearn.svm import LinearSVC"
   ]
  },
  {
   "source": [
    "## Reading the data"
   ],
   "cell_type": "markdown",
   "metadata": {}
  },
  {
   "cell_type": "code",
   "execution_count": 103,
   "metadata": {},
   "outputs": [
    {
     "output_type": "execute_result",
     "data": {
      "text/plain": [
       "   PassengerId  Survived  Pclass  \\\n",
       "0            1         0       3   \n",
       "1            2         1       1   \n",
       "2            3         1       3   \n",
       "\n",
       "                                                Name     Sex   Age  SibSp  \\\n",
       "0                            Braund, Mr. Owen Harris    male  22.0      1   \n",
       "1  Cumings, Mrs. John Bradley (Florence Briggs Th...  female  38.0      1   \n",
       "2                             Heikkinen, Miss. Laina  female  26.0      0   \n",
       "\n",
       "   Parch            Ticket     Fare Cabin Embarked  \n",
       "0      0         A/5 21171   7.2500   NaN        S  \n",
       "1      0          PC 17599  71.2833   C85        C  \n",
       "2      0  STON/O2. 3101282   7.9250   NaN        S  "
      ],
      "text/html": "<div>\n<style scoped>\n    .dataframe tbody tr th:only-of-type {\n        vertical-align: middle;\n    }\n\n    .dataframe tbody tr th {\n        vertical-align: top;\n    }\n\n    .dataframe thead th {\n        text-align: right;\n    }\n</style>\n<table border=\"1\" class=\"dataframe\">\n  <thead>\n    <tr style=\"text-align: right;\">\n      <th></th>\n      <th>PassengerId</th>\n      <th>Survived</th>\n      <th>Pclass</th>\n      <th>Name</th>\n      <th>Sex</th>\n      <th>Age</th>\n      <th>SibSp</th>\n      <th>Parch</th>\n      <th>Ticket</th>\n      <th>Fare</th>\n      <th>Cabin</th>\n      <th>Embarked</th>\n    </tr>\n  </thead>\n  <tbody>\n    <tr>\n      <th>0</th>\n      <td>1</td>\n      <td>0</td>\n      <td>3</td>\n      <td>Braund, Mr. Owen Harris</td>\n      <td>male</td>\n      <td>22.0</td>\n      <td>1</td>\n      <td>0</td>\n      <td>A/5 21171</td>\n      <td>7.2500</td>\n      <td>NaN</td>\n      <td>S</td>\n    </tr>\n    <tr>\n      <th>1</th>\n      <td>2</td>\n      <td>1</td>\n      <td>1</td>\n      <td>Cumings, Mrs. John Bradley (Florence Briggs Th...</td>\n      <td>female</td>\n      <td>38.0</td>\n      <td>1</td>\n      <td>0</td>\n      <td>PC 17599</td>\n      <td>71.2833</td>\n      <td>C85</td>\n      <td>C</td>\n    </tr>\n    <tr>\n      <th>2</th>\n      <td>3</td>\n      <td>1</td>\n      <td>3</td>\n      <td>Heikkinen, Miss. Laina</td>\n      <td>female</td>\n      <td>26.0</td>\n      <td>0</td>\n      <td>0</td>\n      <td>STON/O2. 3101282</td>\n      <td>7.9250</td>\n      <td>NaN</td>\n      <td>S</td>\n    </tr>\n  </tbody>\n</table>\n</div>"
     },
     "metadata": {},
     "execution_count": 103
    }
   ],
   "source": [
    "pwd = os.getcwd()\n",
    "data = os.path.join(pwd, \"data.csv\")\n",
    "df = pd.read_csv(data)\n",
    "df.head(3)"
   ]
  },
  {
   "source": [
    "## Feature and target selection"
   ],
   "cell_type": "markdown",
   "metadata": {}
  },
  {
   "cell_type": "code",
   "execution_count": 104,
   "metadata": {},
   "outputs": [],
   "source": [
    "features = df[[\"Pclass\", \"Sex\",\"Fare\"]]\n",
    "target = df[[\"Survived\"]]"
   ]
  },
  {
   "source": [
    "## Splitting Dataset"
   ],
   "cell_type": "markdown",
   "metadata": {}
  },
  {
   "cell_type": "code",
   "execution_count": 105,
   "metadata": {},
   "outputs": [],
   "source": [
    "X_train, X_test, y_train, y_test = train_test_split(features, target, random_state=42)"
   ]
  },
  {
   "source": [
    "## Preprocessing"
   ],
   "cell_type": "markdown",
   "metadata": {}
  },
  {
   "cell_type": "code",
   "execution_count": 106,
   "metadata": {},
   "outputs": [],
   "source": [
    "ct = ColumnTransformer([\n",
    "    (\"onehot\", OneHotEncoder(sparse=False), [\"Pclass\", \"Sex\"]),\n",
    "    (\"scaling\", StandardScaler(),[\"Fare\"])\n",
    "    ])\n",
    "\n",
    "X_train_fit_trans = ct.fit_transform(X_train)\n",
    "X_test_fit_trans = ct.transform(X_test)"
   ]
  },
  {
   "source": [
    "# Model Selection\n",
    "- The following are some of the most common supervised machine training models for classification. \n",
    "- Basically, all models are just a line of code with import from sklearn, more or less the same syntax-wise. \n",
    "    - Step 1. Instantiate a class into an object\n",
    "    - Step 2. use .fit to feed training data into the object\n",
    "    - Step 3. use .score to find the accuracy of the trainied model\n",
    "- What sets them apart are the parameters and coefficients used in different models to tune the model for generalisation. \n",
    "- Generalisation means a given model to predict result of unseen data\n",
    "\n",
    "## k-Nearest Neighbours\n",
    "- The nearest neighbour of a test data point to the train dataset\n",
    "- Number of neighbours higher, smoother the decision boundaries, simpler model\n",
    "- n-nearest-neighbour algorithm"
   ],
   "cell_type": "markdown",
   "metadata": {}
  },
  {
   "cell_type": "code",
   "execution_count": 119,
   "metadata": {},
   "outputs": [
    {
     "output_type": "execute_result",
     "data": {
      "text/plain": [
       "KNeighborsClassifier()"
      ]
     },
     "metadata": {},
     "execution_count": 119
    }
   ],
   "source": [
    "# instantiate the knn class into an object\n",
    "knn = KNeighborsClassifier(n_neighbors=5)\n",
    "# feeding in the train data into the object\n",
    "knn.fit(X_train_fit_trans, np.ravel(y_train))"
   ]
  },
  {
   "cell_type": "code",
   "execution_count": 120,
   "metadata": {},
   "outputs": [
    {
     "output_type": "execute_result",
     "data": {
      "text/plain": [
       "0.7982062780269058"
      ]
     },
     "metadata": {},
     "execution_count": 120
    }
   ],
   "source": [
    "# accuray of a model\n",
    "knn.score(X_test_fit_trans, y_test)"
   ]
  },
  {
   "source": [
    "# Linear Models for classification\n",
    "- Not to be confused with linear regression\n",
    "- Two most common models:   \n",
    "\t- logistic regression  \n",
    "\t- linear support vector\n",
    "- L2 regularisation as default\n",
    "- Parameter C, higher C less regularisation better fitting (importance to individual data points). Lower C, putting coefficient vector (w) close to zero(adjust to the “majority” of data points).\n",
    "- Higher C more complex model, lower C less complex model\n",
    "## Logistic Regression"
   ],
   "cell_type": "markdown",
   "metadata": {}
  },
  {
   "cell_type": "code",
   "execution_count": 109,
   "metadata": {},
   "outputs": [
    {
     "output_type": "execute_result",
     "data": {
      "text/plain": [
       "LogisticRegression(C=100)"
      ]
     },
     "metadata": {},
     "execution_count": 109
    }
   ],
   "source": [
    "logreg = LogisticRegression(C=100)\n",
    "logreg.fit(X_train_fit_trans, np.ravel(y_train))"
   ]
  },
  {
   "cell_type": "code",
   "execution_count": 110,
   "metadata": {},
   "outputs": [
    {
     "output_type": "execute_result",
     "data": {
      "text/plain": [
       "0.7802690582959642"
      ]
     },
     "metadata": {},
     "execution_count": 110
    }
   ],
   "source": [
    "logreg.score(X_test_fit_trans, y_test)"
   ]
  },
  {
   "cell_type": "code",
   "execution_count": 111,
   "metadata": {},
   "outputs": [
    {
     "output_type": "execute_result",
     "data": {
      "text/plain": [
       "array([[ 0.67128411,  0.26544327, -0.89948136,  1.31842335, -1.28117734,\n",
       "         0.15360815]])"
      ]
     },
     "metadata": {},
     "execution_count": 111
    }
   ],
   "source": [
    "logreg.coef_"
   ]
  },
  {
   "cell_type": "code",
   "execution_count": 112,
   "metadata": {},
   "outputs": [
    {
     "output_type": "execute_result",
     "data": {
      "text/plain": [
       "array([0.03725291])"
      ]
     },
     "metadata": {},
     "execution_count": 112
    }
   ],
   "source": [
    "logreg.intercept_"
   ]
  },
  {
   "source": [
    "## Linear Support Model "
   ],
   "cell_type": "markdown",
   "metadata": {}
  },
  {
   "cell_type": "code",
   "execution_count": 113,
   "metadata": {},
   "outputs": [
    {
     "output_type": "execute_result",
     "data": {
      "text/plain": [
       "LinearSVC(C=10, max_iter=100000)"
      ]
     },
     "metadata": {},
     "execution_count": 113
    }
   ],
   "source": [
    "linear_svm = LinearSVC(C=10, max_iter=100000)\n",
    "linear_svm.fit(X_train_fit_trans, y_train.values.ravel())"
   ]
  },
  {
   "cell_type": "code",
   "execution_count": 114,
   "metadata": {},
   "outputs": [
    {
     "output_type": "execute_result",
     "data": {
      "text/plain": [
       "0.7847533632286996"
      ]
     },
     "metadata": {},
     "execution_count": 114
    }
   ],
   "source": [
    "linear_svm.score(X_test_fit_trans, y_test)"
   ]
  },
  {
   "cell_type": "code",
   "execution_count": 115,
   "metadata": {},
   "outputs": [
    {
     "output_type": "execute_result",
     "data": {
      "text/plain": [
       "array([[ 0.21858849,  0.08175322, -0.29026886,  0.51807711, -0.50800427,\n",
       "         0.05475173]])"
      ]
     },
     "metadata": {},
     "execution_count": 115
    }
   ],
   "source": [
    "linear_svm.coef_"
   ]
  },
  {
   "cell_type": "code",
   "execution_count": 116,
   "metadata": {},
   "outputs": [
    {
     "output_type": "execute_result",
     "data": {
      "text/plain": [
       "array([0.01007285])"
      ]
     },
     "metadata": {},
     "execution_count": 116
    }
   ],
   "source": [
    "linear_svm.intercept_"
   ]
  }
 ]
}